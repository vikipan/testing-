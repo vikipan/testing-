{
  "nbformat": 4,
  "nbformat_minor": 0,
  "metadata": {
    "colab": {
      "name": "Copy of Module 1 - Python Basics.ipynb",
      "provenance": [],
      "collapsed_sections": [],
      "toc_visible": true,
      "include_colab_link": true
    },
    "kernelspec": {
      "name": "python3",
      "display_name": "Python 3"
    }
  },
  "cells": [
    {
      "cell_type": "markdown",
      "metadata": {
        "id": "view-in-github",
        "colab_type": "text"
      },
      "source": [
        "<a href=\"https://colab.research.google.com/github/vikipan/testing-/blob/master/Copy_of_Module_1_Python_Basics.ipynb\" target=\"_parent\"><img src=\"https://colab.research.google.com/assets/colab-badge.svg\" alt=\"Open In Colab\"/></a>"
      ]
    },
    {
      "cell_type": "markdown",
      "metadata": {
        "id": "KbMJVx6HwMsn",
        "colab_type": "text"
      },
      "source": [
        "# Python basic commands"
      ]
    },
    {
      "cell_type": "code",
      "metadata": {
        "id": "RFWO5L_ewSCw",
        "colab_type": "code",
        "colab": {
          "base_uri": "https://localhost:8080/",
          "height": 34
        },
        "outputId": "56b3f7d0-e04c-456a-d9d6-d0e36b41c3e4"
      },
      "source": [
        "# simple operations and variable assignment\n",
        "a = 5\n",
        "b = 3\n",
        "c = 4\n",
        "a+b+c"
      ],
      "execution_count": 3,
      "outputs": [
        {
          "output_type": "execute_result",
          "data": {
            "text/plain": [
              "12"
            ]
          },
          "metadata": {
            "tags": []
          },
          "execution_count": 3
        }
      ]
    },
    {
      "cell_type": "code",
      "metadata": {
        "id": "o3NsXWWMwXrj",
        "colab_type": "code",
        "colab": {
          "base_uri": "https://localhost:8080/",
          "height": 119
        },
        "outputId": "6469d545-3e90-4ee4-f327-4a89ad67ea4b"
      },
      "source": [
        "# printing outputs\n",
        "print(\"Variables:\")\n",
        "print(\"a = %d\" %a)\n",
        "print(f\"b = {b:d}\")\n",
        "print(\"c = {}\".format(c))\n",
        "# ----\n",
        "print(\"a+b+c = %d\" %(a+b+c))\n",
        "print(\"a*b*c = %d\" %(a*b*c))"
      ],
      "execution_count": 6,
      "outputs": [
        {
          "output_type": "stream",
          "text": [
            "Variables:\n",
            "a = 5\n",
            "b = 3\n",
            "c = 4\n",
            "a+b+c = 12\n",
            "a*b*c = 60\n"
          ],
          "name": "stdout"
        }
      ]
    },
    {
      "cell_type": "markdown",
      "metadata": {
        "id": "sQ3udybfxspw",
        "colab_type": "text"
      },
      "source": [
        "# Python datatypes\n",
        "\n",
        "##Lists\n",
        "\n",
        "You can define a list by providing a comma-separated list of elements surrounded by square brackets"
      ]
    },
    {
      "cell_type": "code",
      "metadata": {
        "id": "CAbtUq_PxCX6",
        "colab_type": "code",
        "colab": {}
      },
      "source": [
        "x = [1,2,3,4,5]\n",
        "x"
      ],
      "execution_count": 0,
      "outputs": []
    },
    {
      "cell_type": "markdown",
      "metadata": {
        "id": "clpkeCg2x-lr",
        "colab_type": "text"
      },
      "source": [
        "\n",
        "\n",
        "---\n",
        "\n",
        "You can access one element of the list by providing its index number within square brackets (0 is the first element).\n",
        "\n",
        "**Exercise**: increase the index below until the code breaks. When does this happen? What is the valid range for indices?"
      ]
    },
    {
      "cell_type": "code",
      "metadata": {
        "id": "lWpZQNO8xdnp",
        "colab_type": "code",
        "colab": {}
      },
      "source": [
        "x[0]"
      ],
      "execution_count": 0,
      "outputs": []
    },
    {
      "cell_type": "markdown",
      "metadata": {
        "id": "CTNa_RVkzepp",
        "colab_type": "text"
      },
      "source": [
        "---\n",
        "If the index is negative, you start counting from the end..."
      ]
    },
    {
      "cell_type": "code",
      "metadata": {
        "id": "zf8Z8ODkx2Lh",
        "colab_type": "code",
        "colab": {}
      },
      "source": [
        "x[-1]"
      ],
      "execution_count": 0,
      "outputs": []
    },
    {
      "cell_type": "markdown",
      "metadata": {
        "id": "Ut82BG7uzl8O",
        "colab_type": "text"
      },
      "source": [
        "---\n",
        "... and you can specify ranges by providing two indices separated by a colon (this operation is called *slicing* and returns a list)\n",
        "\n",
        "**Exercise**: play with the start and end index. What are the min/max values you can use for each? What happens if they are the same? What if end is smaller than start? What if you do not provide one of the two?\n"
      ]
    },
    {
      "cell_type": "code",
      "metadata": {
        "id": "958ayPgQx420",
        "colab_type": "code",
        "colab": {}
      },
      "source": [
        "x[2:5]"
      ],
      "execution_count": 0,
      "outputs": []
    },
    {
      "cell_type": "markdown",
      "metadata": {
        "id": "7gXQgmbQHBrF",
        "colab_type": "text"
      },
      "source": [
        "**Exercise on lists:** practice at least three different list-specific functions. You can get their names using colab's autocompletion or see a detailed description [here](https://docs.python.org/3/tutorial/datastructures.html#more-on-lists)."
      ]
    },
    {
      "cell_type": "code",
      "metadata": {
        "id": "ZGbN68f0HhnS",
        "colab_type": "code",
        "colab": {}
      },
      "source": [
        ""
      ],
      "execution_count": 0,
      "outputs": []
    },
    {
      "cell_type": "markdown",
      "metadata": {
        "id": "5UkJzcUx0WzU",
        "colab_type": "text"
      },
      "source": [
        "##Strings\n",
        "\n",
        "Strings are sequences of characters which can be treated as simple variables..."
      ]
    },
    {
      "cell_type": "code",
      "metadata": {
        "id": "675zow_uyY7M",
        "colab_type": "code",
        "colab": {}
      },
      "source": [
        "s = \"Hello\" # assignment\n",
        "t = \" world\"\n",
        "s = s + t # concatenation\n",
        "s"
      ],
      "execution_count": 0,
      "outputs": []
    },
    {
      "cell_type": "markdown",
      "metadata": {
        "id": "kFZf1hQK3C71",
        "colab_type": "text"
      },
      "source": [
        "---\n",
        "... or as list of chars:"
      ]
    },
    {
      "cell_type": "code",
      "metadata": {
        "id": "xvpeZ5l222GB",
        "colab_type": "code",
        "colab": {}
      },
      "source": [
        "# length of a string\n",
        "print(\"The string is %d characters long\" %len(s))\n",
        "\n",
        "s[-5:]"
      ],
      "execution_count": 0,
      "outputs": []
    },
    {
      "cell_type": "markdown",
      "metadata": {
        "id": "SKvZNGH13XMv",
        "colab_type": "text"
      },
      "source": [
        "---\n",
        "\n",
        "You cannot assign a given character to a string..."
      ]
    },
    {
      "cell_type": "code",
      "metadata": {
        "id": "9ymng-4s3JJr",
        "colab_type": "code",
        "colab": {}
      },
      "source": [
        "s[4] = 'a'"
      ],
      "execution_count": 0,
      "outputs": []
    },
    {
      "cell_type": "markdown",
      "metadata": {
        "id": "ky_lSPeS304R",
        "colab_type": "text"
      },
      "source": [
        "---\n",
        "... but you can use string-specific functions to manipulate them:\n"
      ]
    },
    {
      "cell_type": "code",
      "metadata": {
        "id": "gIyguzHS3fEX",
        "colab_type": "code",
        "colab": {}
      },
      "source": [
        "s.replace(\"Hello\", \"Goodbye cruel\")\n"
      ],
      "execution_count": 0,
      "outputs": []
    },
    {
      "cell_type": "markdown",
      "metadata": {
        "colab_type": "text",
        "id": "tN0DWoe6Hp1l"
      },
      "source": [
        "---\n",
        "**Exercise on strings:** practice at least three different string-specific functions. You can get their names using colab's autocompletion or see a detailed description [here](https://docs.python.org/3/library/stdtypes.html#string-methods)."
      ]
    },
    {
      "cell_type": "code",
      "metadata": {
        "id": "kfRU3797H-em",
        "colab_type": "code",
        "colab": {}
      },
      "source": [
        ""
      ],
      "execution_count": 0,
      "outputs": []
    },
    {
      "cell_type": "markdown",
      "metadata": {
        "id": "Z3Csiod24fnG",
        "colab_type": "text"
      },
      "source": [
        "## Tuples\n",
        "Tuples are similar to lists, to the extent they represent a sequence of items. Differently from lists, though, they are *immutable* as their values cannot change once they have been defined.\n",
        "\n",
        "Due to this difference, tuples can be processed more quickly than lists. Thus, if you are dealing with sequences of items which are unlikely to change, you should prefer tuples to lists.\n",
        "\n"
      ]
    },
    {
      "cell_type": "code",
      "metadata": {
        "id": "Z_cRvAvo39oE",
        "colab_type": "code",
        "colab": {}
      },
      "source": [
        "my_list = [1,3,5,7,9]\n",
        "my_tuple = (1,3,5,7,9) # you can also omit the parentheses"
      ],
      "execution_count": 0,
      "outputs": []
    },
    {
      "cell_type": "code",
      "metadata": {
        "id": "frbBjnkHCfZs",
        "colab_type": "code",
        "colab": {}
      },
      "source": [
        "print(my_list[2:4]) # prints a list\n",
        "print(my_tuple[2:4]) # prints a tuple"
      ],
      "execution_count": 0,
      "outputs": []
    },
    {
      "cell_type": "markdown",
      "metadata": {
        "id": "Ocife5WVEi-v",
        "colab_type": "text"
      },
      "source": [
        "---\n",
        "**Exercise**: Test the list value assignment below, then update your code to do the same assignment on the tuple and run it. What happens?"
      ]
    },
    {
      "cell_type": "code",
      "metadata": {
        "id": "bhBQGlPACo7a",
        "colab_type": "code",
        "colab": {}
      },
      "source": [
        "my_list[3] = 100\n",
        "print(my_list)"
      ],
      "execution_count": 0,
      "outputs": []
    },
    {
      "cell_type": "markdown",
      "metadata": {
        "id": "wTMABNoPGUjD",
        "colab_type": "text"
      },
      "source": [
        "##Sets\n",
        "Sets are unordered collections with no duplicate elements. Basic uses include membership testing and eliminating duplicate entries. Set objects also support mathematical operations like union, intersection, and difference. \n"
      ]
    },
    {
      "cell_type": "code",
      "metadata": {
        "id": "HpD6f7-TVsxa",
        "colab_type": "code",
        "colab": {}
      },
      "source": [
        "a = {1, 2, 3, 4, 5}\n",
        "b = set([1, 3, 5, 7, 9])\n",
        "c = set(\"123four\")\n",
        "\n",
        "print(a)\n",
        "print(b)\n",
        "print(c)"
      ],
      "execution_count": 0,
      "outputs": []
    },
    {
      "cell_type": "code",
      "metadata": {
        "id": "U2WGSq4fWHZf",
        "colab_type": "code",
        "colab": {}
      },
      "source": [
        "print(a.intersection(b))\n",
        "print(c.intersection(a))\n",
        "print(b.union(a))\n",
        "print(b-a)"
      ],
      "execution_count": 0,
      "outputs": []
    },
    {
      "cell_type": "markdown",
      "metadata": {
        "id": "ynhcGrZhXGqS",
        "colab_type": "text"
      },
      "source": [
        "---\n",
        "**Exercise**: use sets to efficiently check which letters of the alphabet do **not** appear in the following sentence"
      ]
    },
    {
      "cell_type": "code",
      "metadata": {
        "id": "2-GB1D2uWRA5",
        "colab_type": "code",
        "colab": {}
      },
      "source": [
        "sentence = \"the quick brown fox jumped over the lazy dog\"\n",
        "alphabet = \"abcdefghijklmnopqrstuvwxyz\"\n",
        "\n",
        "# write your code here\n",
        "# ..."
      ],
      "execution_count": 0,
      "outputs": []
    },
    {
      "cell_type": "markdown",
      "metadata": {
        "id": "DqBzpmY3Gauw",
        "colab_type": "text"
      },
      "source": [
        "## Dictionaries\n",
        "Python dictionaries are unordered sets of *key:value* pairs, characterised by the fact that all keys (as in any set) are **unique**."
      ]
    },
    {
      "cell_type": "code",
      "metadata": {
        "id": "y4twlZqxEc16",
        "colab_type": "code",
        "colab": {}
      },
      "source": [
        "my_dict = {\"key1\": \"value1\", \"key2\": 3, \"key3\": [1,2,3]}\n",
        "print(my_dict)"
      ],
      "execution_count": 0,
      "outputs": []
    },
    {
      "cell_type": "code",
      "metadata": {
        "id": "pOdOehXj9a2w",
        "colab_type": "code",
        "colab": {}
      },
      "source": [
        "print(type(my_dict['key1']))\n",
        "print(type(my_dict['key2']))\n",
        "print(type(my_dict['key3']))"
      ],
      "execution_count": 0,
      "outputs": []
    },
    {
      "cell_type": "markdown",
      "metadata": {
        "id": "Ghg1gOwMt7NX",
        "colab_type": "text"
      },
      "source": [
        "---\n",
        "To assign key/value pairs to a variable, it is first necessary to specify it is\n",
        "indeed a dictionary:"
      ]
    },
    {
      "cell_type": "code",
      "metadata": {
        "id": "eKz-Oksf9_1-",
        "colab_type": "code",
        "colab": {}
      },
      "source": [
        "# another_dict = {}\n",
        "another_dict['key'] = \"value\"\n",
        "another_dict"
      ],
      "execution_count": 0,
      "outputs": []
    },
    {
      "cell_type": "markdown",
      "metadata": {
        "id": "mBRBEsxSuRHz",
        "colab_type": "text"
      },
      "source": [
        "---\n",
        "Once you have a dictionary variable declared you can add new keys at any time,\n",
        "and you can also assign, to the same key, a new value of a differen type:"
      ]
    },
    {
      "cell_type": "code",
      "metadata": {
        "id": "WiccmboE9dWO",
        "colab_type": "code",
        "colab": {}
      },
      "source": [
        "my_dict['key1'] = (1,2)\n",
        "my_dict['key4'] = \"hello world\"\n",
        "my_dict"
      ],
      "execution_count": 0,
      "outputs": []
    },
    {
      "cell_type": "markdown",
      "metadata": {
        "id": "BwKlSoKeugTB",
        "colab_type": "text"
      },
      "source": [
        "---\n",
        "You can always list the keys and values in a dictionary, together or separately "
      ]
    },
    {
      "cell_type": "code",
      "metadata": {
        "id": "q0D1iR8K991O",
        "colab_type": "code",
        "colab": {}
      },
      "source": [
        "my_dict.keys()"
      ],
      "execution_count": 0,
      "outputs": []
    },
    {
      "cell_type": "markdown",
      "metadata": {
        "id": "D23lgQao-Qyb",
        "colab_type": "text"
      },
      "source": [
        "---\n",
        "**Exercise on dictionaries:** practice at least three different dictionary-specific functions. You can get their names using colab's autocompletion or see a detailed description [here](https://docs.python.org/3/tutorial/datastructures.html#dictionaries)."
      ]
    },
    {
      "cell_type": "code",
      "metadata": {
        "id": "8RnfGwgs92kk",
        "colab_type": "code",
        "colab": {}
      },
      "source": [
        ""
      ],
      "execution_count": 0,
      "outputs": []
    },
    {
      "cell_type": "markdown",
      "metadata": {
        "id": "vLkHmtg_vBNG",
        "colab_type": "text"
      },
      "source": [
        "# Python Iteration and Conditional Operators"
      ]
    },
    {
      "cell_type": "markdown",
      "metadata": {
        "id": "_VWHwBbJvRdR",
        "colab_type": "text"
      },
      "source": [
        "## Loops\n",
        "In Python it is possible to iterate on any object which is defined as an *iterable*. There are many types of iterable objects:"
      ]
    },
    {
      "cell_type": "code",
      "metadata": {
        "id": "yV3FtFkuv0TH",
        "colab_type": "code",
        "colab": {}
      },
      "source": [
        "my_list = ['a', 'b', 'c', 'd']\n",
        "my_set = {1, 3, 5, 7, 9}\n",
        "my_string = \"Hello world\"\n",
        "my_dict = {'username': 'David', 'password': 'pencil'}\n",
        "\n",
        "# Exercise: change the variable name to one of those above \n",
        "# and see what is being printed\n",
        "for element in my_list:\n",
        "  print(element)"
      ],
      "execution_count": 0,
      "outputs": []
    },
    {
      "cell_type": "markdown",
      "metadata": {
        "id": "UeSCnhTZxkF_",
        "colab_type": "text"
      },
      "source": [
        "Note that **for loops** can work with more than one value at a time (e.g. key/value pairs in a dict):"
      ]
    },
    {
      "cell_type": "code",
      "metadata": {
        "id": "b7LfgfAmv5BY",
        "colab_type": "code",
        "colab": {}
      },
      "source": [
        "for k,v in my_dict.items():\n",
        "  print(k,v)"
      ],
      "execution_count": 0,
      "outputs": []
    },
    {
      "cell_type": "markdown",
      "metadata": {
        "id": "Zm7H-snZyGtW",
        "colab_type": "text"
      },
      "source": [
        "... and they can also work without having a variable to iterate on:\n"
      ]
    },
    {
      "cell_type": "code",
      "metadata": {
        "id": "YZLpyH3mxCto",
        "colab_type": "code",
        "colab": {}
      },
      "source": [
        "print(\"Squares:\")\n",
        "for i in range(10):\n",
        "  print(i**2)"
      ],
      "execution_count": 0,
      "outputs": []
    },
    {
      "cell_type": "markdown",
      "metadata": {
        "id": "z6LoMJEFyaqh",
        "colab_type": "text"
      },
      "source": [
        "Finally, if you need to fill up a list using a loop, you can also write it in a *compact* way as follows:"
      ]
    },
    {
      "cell_type": "code",
      "metadata": {
        "id": "AI_B6iCEyZLM",
        "colab_type": "code",
        "colab": {}
      },
      "source": [
        "list_of_squares = [x**2 for x in range(10)]\n",
        "print(list_of_squares)"
      ],
      "execution_count": 0,
      "outputs": []
    },
    {
      "cell_type": "markdown",
      "metadata": {
        "id": "jVSXr5fJzDzl",
        "colab_type": "text"
      },
      "source": [
        "## IF ... ELSE Statements\n",
        "\n",
        "Code flow in Python can be controlled with conditional statements written as follows:\n",
        "\n",
        "```\n",
        "if [condition]:\n",
        "  __code if condition is true__\n",
        "  __code if condition is true__\n",
        "  ...\n",
        "else:\n",
        "  __code if condition is false__\n",
        "  __code if condition is false__\n",
        "  ...\n",
        "```\n",
        "\n",
        "All the *indented* lines of code are to be considered as a block which will be executed, respectively, if the condition is true or if it is false."
      ]
    },
    {
      "cell_type": "code",
      "metadata": {
        "id": "RctL1UfQ0TDE",
        "colab_type": "code",
        "cellView": "form",
        "colab": {}
      },
      "source": [
        "name = 'Davide'   #@param {type: \"string\"}\n",
        "\n",
        "if name == \"Davide\":\n",
        "  print(\"Hey, you have my same name!\")\n",
        "else:\n",
        "  print(f\"Nice to meet you {name}!\")"
      ],
      "execution_count": 0,
      "outputs": []
    },
    {
      "cell_type": "markdown",
      "metadata": {
        "id": "xDyhZVa83Fez",
        "colab_type": "text"
      },
      "source": [
        "With loops and conditions you can already start writing useful code. The following, for instance, shows how to print all even numbers:\n"
      ]
    },
    {
      "cell_type": "code",
      "metadata": {
        "id": "um8bVuW10zdy",
        "colab_type": "code",
        "cellView": "both",
        "colab": {}
      },
      "source": [
        "def prime(number):\n",
        "  for i in range(2,number):\n",
        "    if number%i == 0:\n",
        "      return False\n",
        "  return True\n",
        "\n",
        "for n in range(20):\n",
        "  if prime(n):\n",
        "    print(n)"
      ],
      "execution_count": 0,
      "outputs": []
    },
    {
      "cell_type": "markdown",
      "metadata": {
        "id": "wrN3iyMUDJeD",
        "colab_type": "text"
      },
      "source": [
        "# Python Modules\n",
        "\n",
        "A module (also called *library*) is a file containing Python definitions and statements. It allows developers to split a program into several files for easier maintenance, and reuse the same functions in several programs without copying their definition into each one of them.\n",
        "\n",
        "For the sake of this course, we will use modules written by other developers and made publicly available. Some examples of these modules are [numpy](https://numpy.org/), [matplotlib](https://matplotlib.org/), and [scikit-learn](https://scikit-learn.org/stable/)."
      ]
    },
    {
      "cell_type": "code",
      "metadata": {
        "id": "lvt19kBD17D4",
        "colab_type": "code",
        "colab": {}
      },
      "source": [
        "# note that python does not have a built-in \"sqrt\" function,\n",
        "# so the following command will return an error\n",
        "sqrt(9)"
      ],
      "execution_count": 0,
      "outputs": []
    },
    {
      "cell_type": "code",
      "metadata": {
        "id": "iTQRUIdED-cI",
        "colab_type": "code",
        "colab": {}
      },
      "source": [
        "import math\n",
        "math.sqrt(9)"
      ],
      "execution_count": 0,
      "outputs": []
    },
    {
      "cell_type": "code",
      "metadata": {
        "id": "k1efEDOCE_iM",
        "colab_type": "code",
        "colab": {}
      },
      "source": [
        "# the ptyhon builtin math library does not allow you to calculate the square \n",
        "# root of many numbers at once\n",
        "my_numbers = range(10)\n",
        "math.sqrt(my_numbers)"
      ],
      "execution_count": 0,
      "outputs": []
    },
    {
      "cell_type": "code",
      "metadata": {
        "id": "v9jZXwLYFPji",
        "colab_type": "code",
        "colab": {}
      },
      "source": [
        "# numpy, instead, allows you to work on complex structures such as arrays \n",
        "# and matrices in an easy way\n",
        "import numpy as np\n",
        "np.sqrt(np.array(my_numbers))"
      ],
      "execution_count": 0,
      "outputs": []
    },
    {
      "cell_type": "code",
      "metadata": {
        "id": "jV_0e4QXF23W",
        "colab_type": "code",
        "colab": {}
      },
      "source": [
        "# matplotlib and numpy can be used together to plot any mathematical function\n",
        "# in few lines of code!\n",
        "import matplotlib.pyplot as plt\n",
        "# the following allows your plot to appear here in the cell\n",
        "%matplotlib inline \n",
        "\n",
        "x = np.array(range(-100,100))\n",
        "y = np.square(x)\n",
        "plt.plot(x,y)"
      ],
      "execution_count": 0,
      "outputs": []
    },
    {
      "cell_type": "code",
      "metadata": {
        "id": "ZB26FhTyGHyx",
        "colab_type": "code",
        "colab": {}
      },
      "source": [
        ""
      ],
      "execution_count": 0,
      "outputs": []
    }
  ]
}